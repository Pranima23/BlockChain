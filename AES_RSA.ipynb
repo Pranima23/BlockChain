{
  "nbformat": 4,
  "nbformat_minor": 0,
  "metadata": {
    "colab": {
      "provenance": []
    },
    "kernelspec": {
      "name": "python3",
      "display_name": "Python 3"
    },
    "language_info": {
      "name": "python"
    }
  },
  "cells": [
    {
      "cell_type": "code",
      "execution_count": 2,
      "metadata": {
        "colab": {
          "base_uri": "https://localhost:8080/"
        },
        "id": "JsZznhHxpvjd",
        "outputId": "0d63a560-ec7f-4e9f-f0e6-49fe643271e7"
      },
      "outputs": [
        {
          "output_type": "stream",
          "name": "stdout",
          "text": [
            "Looking in indexes: https://pypi.org/simple, https://us-python.pkg.dev/colab-wheels/public/simple/\n",
            "Collecting cryptography\n",
            "  Downloading cryptography-39.0.0-cp36-abi3-manylinux_2_28_x86_64.whl (4.2 MB)\n",
            "\u001b[2K     \u001b[90m━━━━━━━━━━━━━━━━━━━━━━━━━━━━━━━━━━━━━━━━\u001b[0m \u001b[32m4.2/4.2 MB\u001b[0m \u001b[31m44.3 MB/s\u001b[0m eta \u001b[36m0:00:00\u001b[0m\n",
            "\u001b[?25hRequirement already satisfied: cffi>=1.12 in /usr/local/lib/python3.8/dist-packages (from cryptography) (1.15.1)\n",
            "Requirement already satisfied: pycparser in /usr/local/lib/python3.8/dist-packages (from cffi>=1.12->cryptography) (2.21)\n",
            "Installing collected packages: cryptography\n",
            "Successfully installed cryptography-39.0.0\n",
            "Looking in indexes: https://pypi.org/simple, https://us-python.pkg.dev/colab-wheels/public/simple/\n",
            "Collecting pycryptodome\n",
            "  Downloading pycryptodome-3.17-cp35-abi3-manylinux_2_17_x86_64.manylinux2014_x86_64.whl (2.1 MB)\n",
            "\u001b[2K     \u001b[90m━━━━━━━━━━━━━━━━━━━━━━━━━━━━━━━━━━━━━━━━\u001b[0m \u001b[32m2.1/2.1 MB\u001b[0m \u001b[31m33.4 MB/s\u001b[0m eta \u001b[36m0:00:00\u001b[0m\n",
            "\u001b[?25hInstalling collected packages: pycryptodome\n",
            "Successfully installed pycryptodome-3.17\n",
            "Looking in indexes: https://pypi.org/simple, https://us-python.pkg.dev/colab-wheels/public/simple/\n",
            "Collecting kerberos\n",
            "  Downloading kerberos-1.3.1.tar.gz (19 kB)\n",
            "  Preparing metadata (setup.py) ... \u001b[?25l\u001b[?25hdone\n",
            "Building wheels for collected packages: kerberos\n",
            "  Building wheel for kerberos (setup.py) ... \u001b[?25l\u001b[?25hdone\n",
            "  Created wheel for kerberos: filename=kerberos-1.3.1-cp38-cp38-linux_x86_64.whl size=70728 sha256=bd62a2e33b2a22b319708301a38c925a29afba8965e2afd16f41cd96f3745274\n",
            "  Stored in directory: /root/.cache/pip/wheels/95/89/ea/535830ccd75b7cac73746fa8741d05dbcb08649b99c1b11c74\n",
            "Successfully built kerberos\n",
            "Installing collected packages: kerberos\n",
            "Successfully installed kerberos-1.3.1\n"
          ]
        }
      ],
      "source": [
        "!pip install cryptography\n",
        "!pip install pycryptodome\n",
        "!pip install kerberos"
      ]
    },
    {
      "cell_type": "code",
      "source": [
        "from Crypto.Cipher import DES, PKCS1_OAEP\n",
        "from Crypto.Random import get_random_bytes\n",
        "from Crypto.PublicKey import RSA\n",
        "\n"
      ],
      "metadata": {
        "id": "wnDFuebTrcqx"
      },
      "execution_count": 3,
      "outputs": []
    },
    {
      "cell_type": "code",
      "source": [
        "session_key = get_random_bytes(8)"
      ],
      "metadata": {
        "id": "efAvh-JesaCZ"
      },
      "execution_count": 4,
      "outputs": []
    },
    {
      "cell_type": "code",
      "source": [
        "session_key"
      ],
      "metadata": {
        "colab": {
          "base_uri": "https://localhost:8080/"
        },
        "id": "_31Th1PYsbeS",
        "outputId": "676c9e56-6901-4cc9-b8df-07249a2b628a"
      },
      "execution_count": 5,
      "outputs": [
        {
          "output_type": "execute_result",
          "data": {
            "text/plain": [
              "b'\\xc9\\xf8Y)]UEH'"
            ]
          },
          "metadata": {},
          "execution_count": 5
        }
      ]
    },
    {
      "cell_type": "code",
      "source": [
        "private_key = RSA.generate(2048)\n",
        "private_key"
      ],
      "metadata": {
        "colab": {
          "base_uri": "https://localhost:8080/"
        },
        "id": "JvaJNj-VsdiZ",
        "outputId": "48378dcb-b907-423c-b316-3378f4d16507"
      },
      "execution_count": 6,
      "outputs": [
        {
          "output_type": "execute_result",
          "data": {
            "text/plain": [
              "RsaKey(n=18913667969068256889435511389276917840516242202492871736798915555365822120966974600231673569898979896880300956331755906172584039989192678598910460799919607564832655738165771468313351424317380381014465049151254421810452294146585366862665492469927191299055806344059511013369902528171695564760738600423562704380844658779924867740829201335177999064600973107453650873532039863822815277658108204087555604372830866182183465049047097099090260253020532368013766688917038768716501047923000677233864193383322957452859689889811583232751114551893387826263752254987401808888249048058539754942083192299818522204553229879284332126157, e=65537, d=1481864543756553276210827351054971296848967371854834263859014474997553368870030255100776444802764652417811699277118019427494024739223753092691998239046450172322878359576219464530295576941478384903398452952216360870824418532572122808460436661122093558185861446589858769487481987373996579049318744045728193178176131765405321730739712739825429875400842989179174460763596641811118310024827850285213679483963491905994392679049222377955567733527692806030131756599849731515687359138267038352216979277082847039689193541570909406020070006219008389062345062016920597706897184803083519170590214876536007492955777980686133466481, p=133477182617966823675017831670648704419543737563401017258028209161336845001481156643796842019196403097482751911735126868229371562529309383601000930072970054816553202185604914780355969075583640716669061000604872593775808394174176367688507856214164606405849674444329379785449747496096980705563566448940417074013, q=141699634335272256072620851004463609288971707523911351952704265913192599052821054135019502927077109943232382058515750943831521622531847468799202307403521101193661764458929061545139916039142297126645728527176876714765300218272275815364005618033585766304022471050368981538059821479598590417468105122689768503089, u=96532012187121943893029891075487003316908816294673739193298095150691499801803305320473413721405219361500016708808697523269648947551163601803982097283934182689892334693849660114489688818473801114805870544585981838860065847403636959929151790775779570483335541603532612819784989487237543814928262594594494406068)"
            ]
          },
          "metadata": {},
          "execution_count": 6
        }
      ]
    },
    {
      "cell_type": "code",
      "source": [
        "public_key = private_key.publickey()\n",
        "public_key"
      ],
      "metadata": {
        "colab": {
          "base_uri": "https://localhost:8080/"
        },
        "id": "mIN8JCLUsrw4",
        "outputId": "ba640842-03d9-4723-f29f-94280ade5d38"
      },
      "execution_count": 7,
      "outputs": [
        {
          "output_type": "execute_result",
          "data": {
            "text/plain": [
              "RsaKey(n=18913667969068256889435511389276917840516242202492871736798915555365822120966974600231673569898979896880300956331755906172584039989192678598910460799919607564832655738165771468313351424317380381014465049151254421810452294146585366862665492469927191299055806344059511013369902528171695564760738600423562704380844658779924867740829201335177999064600973107453650873532039863822815277658108204087555604372830866182183465049047097099090260253020532368013766688917038768716501047923000677233864193383322957452859689889811583232751114551893387826263752254987401808888249048058539754942083192299818522204553229879284332126157, e=65537)"
            ]
          },
          "metadata": {},
          "execution_count": 7
        }
      ]
    },
    {
      "cell_type": "code",
      "source": [
        "rsa_encrypt = PKCS1_OAEP.new(public_key)\n",
        "rsa_encrypt"
      ],
      "metadata": {
        "colab": {
          "base_uri": "https://localhost:8080/"
        },
        "id": "PL7L1F2cs6uE",
        "outputId": "eec1ef68-1cb0-43c6-bd5d-6d81e7360fae"
      },
      "execution_count": 8,
      "outputs": [
        {
          "output_type": "execute_result",
          "data": {
            "text/plain": [
              "<Crypto.Cipher.PKCS1_OAEP.PKCS1OAEP_Cipher at 0x7f4d1d1dc250>"
            ]
          },
          "metadata": {},
          "execution_count": 8
        }
      ]
    },
    {
      "cell_type": "code",
      "source": [
        "enc_session_key = rsa_encrypt.encrypt(session_key)\n",
        "enc_session_key"
      ],
      "metadata": {
        "colab": {
          "base_uri": "https://localhost:8080/"
        },
        "id": "I_rKTH98ukWB",
        "outputId": "2927df1c-c794-46f1-c9e0-ba0fa181c104"
      },
      "execution_count": 9,
      "outputs": [
        {
          "output_type": "execute_result",
          "data": {
            "text/plain": [
              "b'`\\xe6\\x16/|\\x03\\x03\\xb1\\xff\\x92`\\'X\\x18\\x17\\x95\\x83:\\xd9\\x06\\r\\xa5\\x0c\\x82\\xca \\x11u\\xd7%\\xf5\\xfc\\xb2\\x9dW\\xd4\\xd8\\x86y\\xc3\\xa9\\x03x\\xc3\\x01;%\\x89\\t\\x89)\\xd2\\xca\\xad\\x18\\x97[Xx\\xd3>\\xe9\\xb8I\\xc3\\x10\\xa5}\\xc7x)Y\\x1e\\xd3\"\\xa1+\\xd6\\xfe.\\xda\\xb3\\xfd\\xd1@\\xf1\\xd6m\\x1f\\xafa\\x11\\xc0\\x11\\xe6r\\xe0o\\xaa]\\xb6\\xbf/\\xb5\\x82\\x93\\xdcc\\x80\\xf5J\\x0f\\\\\\xf6\\x0e\\x92\\xb3 \\x07\\xe6\\x05~\\x82n^\\x84+.\\x96e*\\t\\xfa_\\xce\\x87QA\\x9a\\xcd)\\x05}5Ma\\x9c\\xb3\\x97|a|w?GQ\\x82O\\x9f\\xc6\\x00x\\xcdk\\xd9F\\xb5\\x0cP\\xd8&J\\x96\\x8c\\xe7\\xdf\\xee\\xcdpd\\x7f\\x94\\xc1\\x1e\\x1b\\xe8\\x14\\x17\\x93\\xd6\\xbc\\x05\\xad\\xe3\\t\\xca\\x95(\\xc9\\x01\\x18\\x07\\x94\\xb94\\x15\\xb0\\xea6I\\x9e\\x11\\xe8\\xe6R\\xcaX\\xe6$\\xa5c\\xa5f(\\xda\\xd5\\xb1\\x91k\\xb7\\xc8\\xbb\\xaf\\xbcN\\xad\\xdb\\xa3\\x9f\\xa1\\x7f\\xba\\xb7,@G\\xfcom+#L.n\\xec\\x87'"
            ]
          },
          "metadata": {},
          "execution_count": 9
        }
      ]
    },
    {
      "cell_type": "code",
      "source": [
        "data = b\"Everything is going to be fine.\"\n",
        "data"
      ],
      "metadata": {
        "colab": {
          "base_uri": "https://localhost:8080/"
        },
        "id": "9S7vLm1Mu2Q4",
        "outputId": "4aed4d27-720d-46c8-d2b5-5b945a3688d8"
      },
      "execution_count": 21,
      "outputs": [
        {
          "output_type": "execute_result",
          "data": {
            "text/plain": [
              "b'Everything is going to be fine.'"
            ]
          },
          "metadata": {},
          "execution_count": 21
        }
      ]
    },
    {
      "cell_type": "code",
      "source": [
        "pad = 8 - (len(data)%8)\n",
        "pad"
      ],
      "metadata": {
        "colab": {
          "base_uri": "https://localhost:8080/"
        },
        "id": "zF36KH5PvCqL",
        "outputId": "34cc553c-dbf9-4d2d-eedb-5c7ecf985824"
      },
      "execution_count": 22,
      "outputs": [
        {
          "output_type": "execute_result",
          "data": {
            "text/plain": [
              "1"
            ]
          },
          "metadata": {},
          "execution_count": 22
        }
      ]
    },
    {
      "cell_type": "code",
      "source": [
        "data += bytes([pad]) * pad\n",
        "data"
      ],
      "metadata": {
        "colab": {
          "base_uri": "https://localhost:8080/"
        },
        "id": "zJ0uSeSdvMp6",
        "outputId": "8ef3fd59-77f7-4594-e819-4abc1f03d1ee"
      },
      "execution_count": 23,
      "outputs": [
        {
          "output_type": "execute_result",
          "data": {
            "text/plain": [
              "b'Everything is going to be fine.\\x01'"
            ]
          },
          "metadata": {},
          "execution_count": 23
        }
      ]
    },
    {
      "cell_type": "code",
      "source": [
        "cipher_des = DES.new(session_key, DES.MODE_CBC,session_key)\n",
        "cipher_des"
      ],
      "metadata": {
        "colab": {
          "base_uri": "https://localhost:8080/"
        },
        "id": "hsq4ubXEvbUG",
        "outputId": "d3802f6e-8570-4f19-9a21-d7e023ffae21"
      },
      "execution_count": 24,
      "outputs": [
        {
          "output_type": "execute_result",
          "data": {
            "text/plain": [
              "<Crypto.Cipher._mode_cbc.CbcMode at 0x7f4d10555400>"
            ]
          },
          "metadata": {},
          "execution_count": 24
        }
      ]
    },
    {
      "cell_type": "code",
      "source": [
        "ciphertext = cipher_des.encrypt(data)\n",
        "ciphertext"
      ],
      "metadata": {
        "colab": {
          "base_uri": "https://localhost:8080/"
        },
        "id": "6rktR9x6wBip",
        "outputId": "8d4a1bc2-2455-490a-908e-358bf3d9dd81"
      },
      "execution_count": 25,
      "outputs": [
        {
          "output_type": "execute_result",
          "data": {
            "text/plain": [
              "b'(\\xbfn\\nI\\x1d^(\\x12\\xaf\\x13\\xc4h\\xf5[:\\x0e\\xd9{\\xcc\\xb8\\xfa\\xf4\\xe6\\x08\\xadY\\x18\\xcf\\xc3\\xba#'"
            ]
          },
          "metadata": {},
          "execution_count": 25
        }
      ]
    },
    {
      "cell_type": "code",
      "source": [
        "rsa_decrypt = PKCS1_OAEP.new(private_key)\n",
        "rsa_decrypt"
      ],
      "metadata": {
        "colab": {
          "base_uri": "https://localhost:8080/"
        },
        "id": "OtolxKfwwLPK",
        "outputId": "6f9b5537-61f4-40ee-eac8-290d2b8cf2d0"
      },
      "execution_count": 26,
      "outputs": [
        {
          "output_type": "execute_result",
          "data": {
            "text/plain": [
              "<Crypto.Cipher.PKCS1_OAEP.PKCS1OAEP_Cipher at 0x7f4d105559a0>"
            ]
          },
          "metadata": {},
          "execution_count": 26
        }
      ]
    },
    {
      "cell_type": "code",
      "source": [
        "session_key = rsa_decrypt.decrypt(enc_session_key)\n",
        "session_key"
      ],
      "metadata": {
        "colab": {
          "base_uri": "https://localhost:8080/"
        },
        "id": "BFT2A_VOw091",
        "outputId": "02842965-3f56-4897-aa9d-d1c510939a97"
      },
      "execution_count": 27,
      "outputs": [
        {
          "output_type": "execute_result",
          "data": {
            "text/plain": [
              "b'\\xc9\\xf8Y)]UEH'"
            ]
          },
          "metadata": {},
          "execution_count": 27
        }
      ]
    },
    {
      "cell_type": "code",
      "source": [
        "cipher_des = DES.new(session_key, DES.MODE_CBC, session_key)\n",
        "cipher_des"
      ],
      "metadata": {
        "colab": {
          "base_uri": "https://localhost:8080/"
        },
        "id": "NifYa2osxHOG",
        "outputId": "35cf4551-a182-4481-aabc-a441fe4c874b"
      },
      "execution_count": 28,
      "outputs": [
        {
          "output_type": "execute_result",
          "data": {
            "text/plain": [
              "<Crypto.Cipher._mode_cbc.CbcMode at 0x7f4d104ff580>"
            ]
          },
          "metadata": {},
          "execution_count": 28
        }
      ]
    },
    {
      "cell_type": "code",
      "source": [
        "plaintext = cipher_des.decrypt(ciphertext)\n",
        "plaintext"
      ],
      "metadata": {
        "colab": {
          "base_uri": "https://localhost:8080/"
        },
        "id": "NyWbhzlaxSOb",
        "outputId": "506111c5-da75-447d-d087-6a0c701b3d9d"
      },
      "execution_count": 29,
      "outputs": [
        {
          "output_type": "execute_result",
          "data": {
            "text/plain": [
              "b'Everything is going to be fine.\\x01'"
            ]
          },
          "metadata": {},
          "execution_count": 29
        }
      ]
    },
    {
      "cell_type": "code",
      "source": [
        "-plaintext[-1]"
      ],
      "metadata": {
        "colab": {
          "base_uri": "https://localhost:8080/"
        },
        "id": "WZ__0LH7xa07",
        "outputId": "b4ab3cdf-068d-41ee-89d2-d3444f717ac6"
      },
      "execution_count": 31,
      "outputs": [
        {
          "output_type": "execute_result",
          "data": {
            "text/plain": [
              "-1"
            ]
          },
          "metadata": {},
          "execution_count": 31
        }
      ]
    },
    {
      "cell_type": "code",
      "source": [
        "plaintext[:-plaintext[-1]]"
      ],
      "metadata": {
        "colab": {
          "base_uri": "https://localhost:8080/"
        },
        "id": "IMIVQKL0xlq-",
        "outputId": "f52bba21-c9e3-4cd5-f9dd-a2c70b6188ec"
      },
      "execution_count": 32,
      "outputs": [
        {
          "output_type": "execute_result",
          "data": {
            "text/plain": [
              "b'Everything is going to be fine.'"
            ]
          },
          "metadata": {},
          "execution_count": 32
        }
      ]
    }
  ]
}