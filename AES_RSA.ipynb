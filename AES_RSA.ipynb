{
  "cells": [
    {
      "cell_type": "code",
      "execution_count": 1,
      "metadata": {
        "colab": {
          "base_uri": "https://localhost:8080/"
        },
        "id": "JsZznhHxpvjd",
        "outputId": "0d63a560-ec7f-4e9f-f0e6-49fe643271e7"
      },
      "outputs": [
        {
          "name": "stdout",
          "output_type": "stream",
          "text": [
            "Defaulting to user installation because normal site-packages is not writeable\n",
            "Requirement already satisfied: cryptography in /usr/lib/python3/dist-packages (3.4.8)\n",
            "Defaulting to user installation because normal site-packages is not writeable\n",
            "Collecting pycryptodome\n",
            "  Using cached pycryptodome-3.17-cp35-abi3-manylinux_2_17_x86_64.manylinux2014_x86_64.whl (2.1 MB)\n",
            "Installing collected packages: pycryptodome\n",
            "Successfully installed pycryptodome-3.17\n",
            "Defaulting to user installation because normal site-packages is not writeable\n",
            "Collecting kerberos\n",
            "  Using cached kerberos-1.3.1.tar.gz (19 kB)\n",
            "  Preparing metadata (setup.py) ... \u001b[?25ldone\n",
            "\u001b[?25hBuilding wheels for collected packages: kerberos\n",
            "  Building wheel for kerberos (setup.py) ... \u001b[?25lerror\n",
            "  \u001b[1;31merror\u001b[0m: \u001b[1msubprocess-exited-with-error\u001b[0m\n",
            "  \n",
            "  \u001b[31m×\u001b[0m \u001b[32mpython setup.py bdist_wheel\u001b[0m did not run successfully.\n",
            "  \u001b[31m│\u001b[0m exit code: \u001b[1;36m1\u001b[0m\n",
            "  \u001b[31m╰─>\u001b[0m \u001b[31m[19 lines of output]\u001b[0m\n",
            "  \u001b[31m   \u001b[0m running bdist_wheel\n",
            "  \u001b[31m   \u001b[0m running build\n",
            "  \u001b[31m   \u001b[0m running build_ext\n",
            "  \u001b[31m   \u001b[0m building 'kerberos' extension\n",
            "  \u001b[31m   \u001b[0m creating build\n",
            "  \u001b[31m   \u001b[0m creating build/temp.linux-x86_64-3.10\n",
            "  \u001b[31m   \u001b[0m creating build/temp.linux-x86_64-3.10/src\n",
            "  \u001b[31m   \u001b[0m x86_64-linux-gnu-gcc -Wno-unused-result -Wsign-compare -DNDEBUG -g -fwrapv -O2 -Wall -g -fstack-protector-strong -Wformat -Werror=format-security -g -fwrapv -O2 -g -fstack-protector-strong -Wformat -Werror=format-security -Wdate-time -D_FORTIFY_SOURCE=2 -fPIC -I/usr/include/python3.10 -c src/base64.c -o build/temp.linux-x86_64-3.10/src/base64.o /bin/sh: 1: krb5-config: not found\n",
            "  \u001b[31m   \u001b[0m x86_64-linux-gnu-gcc: warning: /bin/sh:: linker input file unused because linking not done\n",
            "  \u001b[31m   \u001b[0m x86_64-linux-gnu-gcc: error: /bin/sh:: linker input file not found: No such file or directory\n",
            "  \u001b[31m   \u001b[0m x86_64-linux-gnu-gcc: warning: 1:: linker input file unused because linking not done\n",
            "  \u001b[31m   \u001b[0m x86_64-linux-gnu-gcc: error: 1:: linker input file not found: No such file or directory\n",
            "  \u001b[31m   \u001b[0m x86_64-linux-gnu-gcc: warning: krb5-config:: linker input file unused because linking not done\n",
            "  \u001b[31m   \u001b[0m x86_64-linux-gnu-gcc: error: krb5-config:: linker input file not found: No such file or directory\n",
            "  \u001b[31m   \u001b[0m x86_64-linux-gnu-gcc: warning: not: linker input file unused because linking not done\n",
            "  \u001b[31m   \u001b[0m x86_64-linux-gnu-gcc: error: not: linker input file not found: No such file or directory\n",
            "  \u001b[31m   \u001b[0m x86_64-linux-gnu-gcc: warning: found: linker input file unused because linking not done\n",
            "  \u001b[31m   \u001b[0m x86_64-linux-gnu-gcc: error: found: linker input file not found: No such file or directory\n",
            "  \u001b[31m   \u001b[0m error: command '/bin/x86_64-linux-gnu-gcc' failed with exit code 1\n",
            "  \u001b[31m   \u001b[0m \u001b[31m[end of output]\u001b[0m\n",
            "  \n",
            "  \u001b[1;35mnote\u001b[0m: This error originates from a subprocess, and is likely not a problem with pip.\n",
            "\u001b[31m  ERROR: Failed building wheel for kerberos\u001b[0m\u001b[31m\n",
            "\u001b[0m\u001b[?25h  Running setup.py clean for kerberos\n",
            "Failed to build kerberos\n",
            "Installing collected packages: kerberos\n",
            "  Running setup.py install for kerberos ... \u001b[?25lerror\n",
            "  \u001b[1;31merror\u001b[0m: \u001b[1msubprocess-exited-with-error\u001b[0m\n",
            "  \n",
            "  \u001b[31m×\u001b[0m \u001b[32mRunning setup.py install for kerberos\u001b[0m did not run successfully.\n",
            "  \u001b[31m│\u001b[0m exit code: \u001b[1;36m1\u001b[0m\n",
            "  \u001b[31m╰─>\u001b[0m \u001b[31m[21 lines of output]\u001b[0m\n",
            "  \u001b[31m   \u001b[0m running install\n",
            "  \u001b[31m   \u001b[0m /usr/lib/python3/dist-packages/setuptools/command/install.py:34: SetuptoolsDeprecationWarning: setup.py install is deprecated. Use build and pip and other standards-based tools.\n",
            "  \u001b[31m   \u001b[0m   warnings.warn(\n",
            "  \u001b[31m   \u001b[0m running build\n",
            "  \u001b[31m   \u001b[0m running build_ext\n",
            "  \u001b[31m   \u001b[0m building 'kerberos' extension\n",
            "  \u001b[31m   \u001b[0m creating build\n",
            "  \u001b[31m   \u001b[0m creating build/temp.linux-x86_64-3.10\n",
            "  \u001b[31m   \u001b[0m creating build/temp.linux-x86_64-3.10/src\n",
            "  \u001b[31m   \u001b[0m x86_64-linux-gnu-gcc -Wno-unused-result -Wsign-compare -DNDEBUG -g -fwrapv -O2 -Wall -g -fstack-protector-strong -Wformat -Werror=format-security -g -fwrapv -O2 -g -fstack-protector-strong -Wformat -Werror=format-security -Wdate-time -D_FORTIFY_SOURCE=2 -fPIC -I/usr/include/python3.10 -c src/base64.c -o build/temp.linux-x86_64-3.10/src/base64.o /bin/sh: 1: krb5-config: not found\n",
            "  \u001b[31m   \u001b[0m x86_64-linux-gnu-gcc: warning: /bin/sh:: linker input file unused because linking not done\n",
            "  \u001b[31m   \u001b[0m x86_64-linux-gnu-gcc: error: /bin/sh:: linker input file not found: No such file or directory\n",
            "  \u001b[31m   \u001b[0m x86_64-linux-gnu-gcc: warning: 1:: linker input file unused because linking not done\n",
            "  \u001b[31m   \u001b[0m x86_64-linux-gnu-gcc: error: 1:: linker input file not found: No such file or directory\n",
            "  \u001b[31m   \u001b[0m x86_64-linux-gnu-gcc: warning: krb5-config:: linker input file unused because linking not done\n",
            "  \u001b[31m   \u001b[0m x86_64-linux-gnu-gcc: error: krb5-config:: linker input file not found: No such file or directory\n",
            "  \u001b[31m   \u001b[0m x86_64-linux-gnu-gcc: warning: not: linker input file unused because linking not done\n",
            "  \u001b[31m   \u001b[0m x86_64-linux-gnu-gcc: error: not: linker input file not found: No such file or directory\n",
            "  \u001b[31m   \u001b[0m x86_64-linux-gnu-gcc: warning: found: linker input file unused because linking not done\n",
            "  \u001b[31m   \u001b[0m x86_64-linux-gnu-gcc: error: found: linker input file not found: No such file or directory\n",
            "  \u001b[31m   \u001b[0m error: command '/bin/x86_64-linux-gnu-gcc' failed with exit code 1\n",
            "  \u001b[31m   \u001b[0m \u001b[31m[end of output]\u001b[0m\n",
            "  \n",
            "  \u001b[1;35mnote\u001b[0m: This error originates from a subprocess, and is likely not a problem with pip.\n",
            "\u001b[?25h\u001b[1;31merror\u001b[0m: \u001b[1mlegacy-install-failure\u001b[0m\n",
            "\n",
            "\u001b[31m×\u001b[0m Encountered error while trying to install package.\n",
            "\u001b[31m╰─>\u001b[0m kerberos\n",
            "\n",
            "\u001b[1;35mnote\u001b[0m: This is an issue with the package mentioned above, not pip.\n",
            "\u001b[1;36mhint\u001b[0m: See above for output from the failure.\n"
          ]
        }
      ],
      "source": [
        "!pip3 install cryptography\n",
        "!pip3 install pycryptodome\n",
        "!pip3 install kerberos"
      ]
    },
    {
      "cell_type": "code",
      "execution_count": 2,
      "metadata": {
        "id": "wnDFuebTrcqx"
      },
      "outputs": [],
      "source": [
        "from Crypto.Cipher import DES, PKCS1_OAEP\n",
        "from Crypto.Random import get_random_bytes\n",
        "from Crypto.PublicKey import RSA\n",
        "\n"
      ]
    },
    {
      "cell_type": "code",
      "execution_count": 3,
      "metadata": {
        "id": "efAvh-JesaCZ"
      },
      "outputs": [],
      "source": [
        "session_key = get_random_bytes(8)"
      ]
    },
    {
      "cell_type": "code",
      "execution_count": 4,
      "metadata": {
        "colab": {
          "base_uri": "https://localhost:8080/"
        },
        "id": "_31Th1PYsbeS",
        "outputId": "676c9e56-6901-4cc9-b8df-07249a2b628a"
      },
      "outputs": [
        {
          "data": {
            "text/plain": [
              "b'\\x05X@\\xe2\\x07z\\xef\\x90'"
            ]
          },
          "execution_count": 4,
          "metadata": {},
          "output_type": "execute_result"
        }
      ],
      "source": [
        "session_key"
      ]
    },
    {
      "cell_type": "code",
      "execution_count": 5,
      "metadata": {
        "colab": {
          "base_uri": "https://localhost:8080/"
        },
        "id": "JvaJNj-VsdiZ",
        "outputId": "48378dcb-b907-423c-b316-3378f4d16507"
      },
      "outputs": [
        {
          "data": {
            "text/plain": [
              "RsaKey(n=19878977724531943284795357718397862983453942105210889106223217104342585830827523070057377428938412290348295305446915447610353906408204838882779966944526401942327462265154292465780916323563413062772400320340857156496428843596885886120965364955673347646108333798839951427349190845393484772835167543466796024986692637420817411583733736759784442683864641281310402385756357780935668943698084250201478911519848418748454788457377702181558659084202100366347178648644659050786912282912200060702578763761683495376385100101811069083178995530167200893201329540547928091843281343537050827477734466589665644781176517769597251544061, e=65537, d=782167720667169622523727805370197741463349067085799764923058711660787172935340225591703256284725221668776899909832438454314953396699839903948617754268626979699752972672537898696705065501270962880785664373513455095587473298153864080532025242884890640518138684260473331829866960243433625424895933380543106486888425235971551984850144619745908939693036430866400115442682328781450555685599425115366314066854009095576473501691040071391646778461654713667476633378862279970229675566502017500292643672096208306285803530428671760812724117593725416292241386018687294365723868704463351338757269129801060378283442222259182131433, p=133439617883656673824303933178417538508692079239865915109210749715835635212414283776578009467379674997899150125239523752709318351747865197237832488052501475227214921378304240698955421975769431912505079426332634710087494054036897098901947990079692881018861472220636671064885308481773894208559808536988636480021, q=148973581008482991997374988478464530048509817240775019590558591008899266267016979867686031868686069057675509629008365092881157799508133538556376148473220440853962869609112417480334416054167140163295332573679484849742655958227531953396341698023464027900624403422588062647454417852420052586631037303420854279241, u=3439332064517311591824704443441348421378447724862805832012783020014699572200551551510301735751085451020931718204239096472842889920050750194994193476054104583764637019019578276696371815826251156092901033565662886075161457180971816269780688566953151594177220146730137780495406459879795895657798774434042088189)"
            ]
          },
          "execution_count": 5,
          "metadata": {},
          "output_type": "execute_result"
        }
      ],
      "source": [
        "private_key = RSA.generate(2048)\n",
        "private_key"
      ]
    },
    {
      "cell_type": "code",
      "execution_count": 6,
      "metadata": {
        "colab": {
          "base_uri": "https://localhost:8080/"
        },
        "id": "mIN8JCLUsrw4",
        "outputId": "ba640842-03d9-4723-f29f-94280ade5d38"
      },
      "outputs": [
        {
          "data": {
            "text/plain": [
              "RsaKey(n=19878977724531943284795357718397862983453942105210889106223217104342585830827523070057377428938412290348295305446915447610353906408204838882779966944526401942327462265154292465780916323563413062772400320340857156496428843596885886120965364955673347646108333798839951427349190845393484772835167543466796024986692637420817411583733736759784442683864641281310402385756357780935668943698084250201478911519848418748454788457377702181558659084202100366347178648644659050786912282912200060702578763761683495376385100101811069083178995530167200893201329540547928091843281343537050827477734466589665644781176517769597251544061, e=65537)"
            ]
          },
          "execution_count": 6,
          "metadata": {},
          "output_type": "execute_result"
        }
      ],
      "source": [
        "public_key = private_key.publickey()\n",
        "public_key"
      ]
    },
    {
      "cell_type": "code",
      "execution_count": 7,
      "metadata": {
        "colab": {
          "base_uri": "https://localhost:8080/"
        },
        "id": "PL7L1F2cs6uE",
        "outputId": "eec1ef68-1cb0-43c6-bd5d-6d81e7360fae"
      },
      "outputs": [
        {
          "data": {
            "text/plain": [
              "<Crypto.Cipher.PKCS1_OAEP.PKCS1OAEP_Cipher at 0x7f73f756f220>"
            ]
          },
          "execution_count": 7,
          "metadata": {},
          "output_type": "execute_result"
        }
      ],
      "source": [
        "rsa_encrypt = PKCS1_OAEP.new(public_key)\n",
        "rsa_encrypt"
      ]
    },
    {
      "cell_type": "code",
      "execution_count": 8,
      "metadata": {
        "colab": {
          "base_uri": "https://localhost:8080/"
        },
        "id": "I_rKTH98ukWB",
        "outputId": "2927df1c-c794-46f1-c9e0-ba0fa181c104"
      },
      "outputs": [
        {
          "data": {
            "text/plain": [
              "b'w\\xfd\\xbf\\xf4\\xf2\\x0ck\\x96\\x15\\xa7\\xe2\\x93?\\x92\\x138\\xb6\\xc0\\xca\\x0cR\\x8c\\x03J\\x00\\x80+\\xca\\xbe\\xa8\\xb0:e\\xbbexp\\xa0\\xb4G\\x02\\xf5\\x85=E\\xa5\\xf8\\x84\\x9f\\xe6\\x1f|\\xcc\\x83g;\\xaa\\x9c\\x91*\\xf7\\x93yo\\xed{POt\\xefR\\x8f\\xab\\x8d:\\x9e\\xbfyFk\\xb4\\xe7\\x04\\x87\\x9a\\x06\\xfc\\xec#\\xe4\\xa5\\xde\\xd1C\\xf7\\xf3\\xf3fZ_LBY\\xc4\\xd5E\\xfe\\x94\\xb1.Oh\\x90\\xb0+i:\\x9e\\x80%X\\xf4D\\xb5\\xb6PA\\xfd\\xefc\\x03\\xf9p\\x02\\x07\\x04\\x04Eh\\xffx\\x7f\\x99FD&:{>\\xfe\\x87G\\x1bkif\\xc9$\\xa5im\\xe7\\'\\x10\\x18\\xa3W\\xf0\\xe7\\x11I\\x88\\x0f\\xfc2\\x91\\xce\\x1bz\\xa2\\t}\\xf4\\x0b\\x9ed4\\xd2\\xc2JxXE\\x93\\xb7\\xdbI\\x15\\x01\\x93\\xcd~\\xe80\\x88\\n2r\\x9f\\xa2\\x9cp\\x1bo\\x06\\xdcG\\xbe\\xf2}jq\\xf24\\xf3\\x85}\\xc8\\xb8\\xe1\\x18\\x02\\xb6=\"\\xc1C\\xee\\xd4bk\\x8aHG\\t\\xf2\\xb5\\t\\xc2\\x81\\x16\\xca\\x124\\x1e_'"
            ]
          },
          "execution_count": 8,
          "metadata": {},
          "output_type": "execute_result"
        }
      ],
      "source": [
        "enc_session_key = rsa_encrypt.encrypt(session_key)\n",
        "enc_session_key"
      ]
    },
    {
      "cell_type": "code",
      "execution_count": 9,
      "metadata": {
        "colab": {
          "base_uri": "https://localhost:8080/"
        },
        "id": "9S7vLm1Mu2Q4",
        "outputId": "4aed4d27-720d-46c8-d2b5-5b945a3688d8"
      },
      "outputs": [
        {
          "data": {
            "text/plain": [
              "b'Everything is going to be fine.'"
            ]
          },
          "execution_count": 9,
          "metadata": {},
          "output_type": "execute_result"
        }
      ],
      "source": [
        "data = b\"Everything is going to be fine.\"\n",
        "data"
      ]
    },
    {
      "cell_type": "code",
      "execution_count": 10,
      "metadata": {
        "colab": {
          "base_uri": "https://localhost:8080/"
        },
        "id": "zF36KH5PvCqL",
        "outputId": "34cc553c-dbf9-4d2d-eedb-5c7ecf985824"
      },
      "outputs": [
        {
          "data": {
            "text/plain": [
              "1"
            ]
          },
          "execution_count": 10,
          "metadata": {},
          "output_type": "execute_result"
        }
      ],
      "source": [
        "pad = 8 - (len(data)%8)\n",
        "pad"
      ]
    },
    {
      "cell_type": "code",
      "execution_count": 11,
      "metadata": {
        "colab": {
          "base_uri": "https://localhost:8080/"
        },
        "id": "zJ0uSeSdvMp6",
        "outputId": "8ef3fd59-77f7-4594-e819-4abc1f03d1ee"
      },
      "outputs": [
        {
          "data": {
            "text/plain": [
              "b'Everything is going to be fine.\\x01'"
            ]
          },
          "execution_count": 11,
          "metadata": {},
          "output_type": "execute_result"
        }
      ],
      "source": [
        "data += bytes([pad]) * pad\n",
        "data"
      ]
    },
    {
      "cell_type": "code",
      "execution_count": 12,
      "metadata": {
        "colab": {
          "base_uri": "https://localhost:8080/"
        },
        "id": "hsq4ubXEvbUG",
        "outputId": "d3802f6e-8570-4f19-9a21-d7e023ffae21"
      },
      "outputs": [
        {
          "data": {
            "text/plain": [
              "<Crypto.Cipher._mode_cbc.CbcMode at 0x7f73f756fca0>"
            ]
          },
          "execution_count": 12,
          "metadata": {},
          "output_type": "execute_result"
        }
      ],
      "source": [
        "cipher_des = DES.new(session_key, DES.MODE_CBC,session_key)\n",
        "cipher_des"
      ]
    },
    {
      "cell_type": "code",
      "execution_count": 13,
      "metadata": {
        "colab": {
          "base_uri": "https://localhost:8080/"
        },
        "id": "6rktR9x6wBip",
        "outputId": "8d4a1bc2-2455-490a-908e-358bf3d9dd81"
      },
      "outputs": [
        {
          "data": {
            "text/plain": [
              "b'\\xdep\\x08\\xfb?Mz\\xb0\\x1a\\xd4\\x9c\\xa4\\x070\\n\\xa3?\\xcb^\\xbfM0\\xae\\x1a\\xde\\xf9\\xaem\\xdds\\x1e%'"
            ]
          },
          "execution_count": 13,
          "metadata": {},
          "output_type": "execute_result"
        }
      ],
      "source": [
        "ciphertext = cipher_des.encrypt(data)\n",
        "ciphertext"
      ]
    },
    {
      "cell_type": "code",
      "execution_count": 14,
      "metadata": {
        "colab": {
          "base_uri": "https://localhost:8080/"
        },
        "id": "OtolxKfwwLPK",
        "outputId": "6f9b5537-61f4-40ee-eac8-290d2b8cf2d0"
      },
      "outputs": [
        {
          "data": {
            "text/plain": [
              "<Crypto.Cipher.PKCS1_OAEP.PKCS1OAEP_Cipher at 0x7f73f6e4d3c0>"
            ]
          },
          "execution_count": 14,
          "metadata": {},
          "output_type": "execute_result"
        }
      ],
      "source": [
        "rsa_decrypt = PKCS1_OAEP.new(private_key)\n",
        "rsa_decrypt"
      ]
    },
    {
      "cell_type": "code",
      "execution_count": 15,
      "metadata": {
        "colab": {
          "base_uri": "https://localhost:8080/"
        },
        "id": "BFT2A_VOw091",
        "outputId": "02842965-3f56-4897-aa9d-d1c510939a97"
      },
      "outputs": [
        {
          "data": {
            "text/plain": [
              "b'\\x05X@\\xe2\\x07z\\xef\\x90'"
            ]
          },
          "execution_count": 15,
          "metadata": {},
          "output_type": "execute_result"
        }
      ],
      "source": [
        "session_key = rsa_decrypt.decrypt(enc_session_key)\n",
        "session_key"
      ]
    },
    {
      "cell_type": "code",
      "execution_count": 16,
      "metadata": {
        "colab": {
          "base_uri": "https://localhost:8080/"
        },
        "id": "NifYa2osxHOG",
        "outputId": "35cf4551-a182-4481-aabc-a441fe4c874b"
      },
      "outputs": [
        {
          "data": {
            "text/plain": [
              "<Crypto.Cipher._mode_cbc.CbcMode at 0x7f73f6e4d2a0>"
            ]
          },
          "execution_count": 16,
          "metadata": {},
          "output_type": "execute_result"
        }
      ],
      "source": [
        "cipher_des = DES.new(session_key, DES.MODE_CBC, session_key)\n",
        "cipher_des"
      ]
    },
    {
      "cell_type": "code",
      "execution_count": 17,
      "metadata": {
        "colab": {
          "base_uri": "https://localhost:8080/"
        },
        "id": "NyWbhzlaxSOb",
        "outputId": "506111c5-da75-447d-d087-6a0c701b3d9d"
      },
      "outputs": [
        {
          "data": {
            "text/plain": [
              "b'Everything is going to be fine.\\x01'"
            ]
          },
          "execution_count": 17,
          "metadata": {},
          "output_type": "execute_result"
        }
      ],
      "source": [
        "plaintext = cipher_des.decrypt(ciphertext)\n",
        "plaintext"
      ]
    },
    {
      "cell_type": "code",
      "execution_count": 18,
      "metadata": {
        "colab": {
          "base_uri": "https://localhost:8080/"
        },
        "id": "WZ__0LH7xa07",
        "outputId": "b4ab3cdf-068d-41ee-89d2-d3444f717ac6"
      },
      "outputs": [
        {
          "data": {
            "text/plain": [
              "-1"
            ]
          },
          "execution_count": 18,
          "metadata": {},
          "output_type": "execute_result"
        }
      ],
      "source": [
        "-plaintext[-1]"
      ]
    },
    {
      "cell_type": "code",
      "execution_count": 19,
      "metadata": {
        "colab": {
          "base_uri": "https://localhost:8080/"
        },
        "id": "IMIVQKL0xlq-",
        "outputId": "f52bba21-c9e3-4cd5-f9dd-a2c70b6188ec"
      },
      "outputs": [
        {
          "data": {
            "text/plain": [
              "b'Everything is going to be fine.'"
            ]
          },
          "execution_count": 19,
          "metadata": {},
          "output_type": "execute_result"
        }
      ],
      "source": [
        "plaintext[:-plaintext[-1]]"
      ]
    },
    {
      "cell_type": "code",
      "execution_count": null,
      "metadata": {},
      "outputs": [],
      "source": []
    }
  ],
  "metadata": {
    "colab": {
      "provenance": []
    },
    "kernelspec": {
      "display_name": "Python 3.10.6 64-bit",
      "language": "python",
      "name": "python3"
    },
    "language_info": {
      "codemirror_mode": {
        "name": "ipython",
        "version": 3
      },
      "file_extension": ".py",
      "mimetype": "text/x-python",
      "name": "python",
      "nbconvert_exporter": "python",
      "pygments_lexer": "ipython3",
      "version": "3.10.6"
    },
    "vscode": {
      "interpreter": {
        "hash": "916dbcbb3f70747c44a77c7bcd40155683ae19c65e1c03b4aa3499c5328201f1"
      }
    }
  },
  "nbformat": 4,
  "nbformat_minor": 0
}
